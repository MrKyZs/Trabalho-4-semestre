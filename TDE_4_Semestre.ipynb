{
  "cells": [
    {
      "cell_type": "markdown",
      "metadata": {
        "id": "view-in-github",
        "colab_type": "text"
      },
      "source": [
        "<a href=\"https://colab.research.google.com/github/MrKyZs/Trabalho-4-semestre/blob/main/TDE_4_Semestre.ipynb\" target=\"_parent\"><img src=\"https://colab.research.google.com/assets/colab-badge.svg\" alt=\"Open In Colab\"/></a>"
      ]
    },
    {
      "cell_type": "code",
      "execution_count": null,
      "metadata": {
        "id": "VSJy9DIw7Sk1"
      },
      "outputs": [],
      "source": [
        "from google.colab import drive\n",
        "drive.mount('/content/drive')"
      ]
    },
    {
      "cell_type": "code",
      "execution_count": null,
      "metadata": {
        "id": "FKBivhry96Ey"
      },
      "outputs": [],
      "source": [
        "import pandas as pd\n",
        "import numpy as np\n",
        "#import plotly.express as px\n",
        "#pd.__version__"
      ]
    },
    {
      "cell_type": "code",
      "execution_count": null,
      "metadata": {
        "id": "aQlA6dez98O6"
      },
      "outputs": [],
      "source": [
        "path = \"TabelaGasolinas.csv\"\n",
        "r_df = pd.read_csv(path, sep=';')\n",
        "\n",
        "pathkek = \"TabelaIPCA.csv\"\n",
        "kek_df = pd.read_csv(pathkek, sep=';')"
      ]
    },
    {
      "cell_type": "code",
      "execution_count": null,
      "metadata": {
        "id": "0gUrIVLx-S26"
      },
      "outputs": [],
      "source": [
        "#São escolhidas as colunas que serão passadas para o novo dataframe\n",
        "columns = r_df[['MES', 'ESTADO', 'PRODUTO', 'PRECO MEDIO REVENDA']]\n",
        "df = columns.copy()\n",
        "\n",
        "df['PRECO MEDIO REVENDA'] = df['PRECO MEDIO REVENDA'].str.replace(',','.')\n",
        "todos_estados = np.unique(df['ESTADO'])\n",
        "\n",
        "estados = ['SAO PAULO', 'RIO DE JANEIRO', 'ESPIRITO SANTO', 'MINAS GERAIS']\n",
        "#estados = todos_estados\n",
        "#estados = ['MARANHAO', 'PIAUI', 'CEARA', 'RIO GRANDE DO NORTE', 'PARAIBA', 'PERNAMBUCO', 'ALAGOAS', 'SERGIPE', 'BAHIA']"
      ]
    },
    {
      "cell_type": "markdown",
      "metadata": {
        "id": "Qcu1fvR70lKd"
      },
      "source": [
        "# Correlação de Pearson"
      ]
    },
    {
      "cell_type": "code",
      "source": [
        "#Pega as operações mean e std utilizando uma função que recebe como atributos uma coluna e o dataframe. \n",
        "#É feito o calculo da media e do desvio usando os metodos .mean e .std, e os resultados são inserido em novas colunas \n",
        "#Que são criadas usando o nome da coluna passada como atributo da função mais o sufixo OP, onde é armazenado o valor da coluna original\n",
        "#menos a media, dividido pelo desvio.\n",
        "def operacao(col, df_completo):\n",
        "  mean = df_completo[col].mean()\n",
        "  std = df_completo[col].std()\n",
        "  df_completo[col+' OP'] = (df_completo[col]-mean)/std\n",
        "  return mean, std, df_completo"
      ],
      "metadata": {
        "id": "DosCSBh2xMS8"
      },
      "execution_count": null,
      "outputs": []
    },
    {
      "cell_type": "code",
      "source": [
        "#Gera a primeira coluna do dataframe final com o primeiro estado da array\n",
        "\n",
        "#Pega apenas a as colunas que possuem PRODUTO = Gasolina Comum do primeiro estado selecionado, juntamente com o preço medio de revenda e passa para float usando\n",
        "#O metodo .astype() que recebe como atributo o tipo que será convertido para. \n",
        "df_gas = df[(df['PRODUTO'] == 'GASOLINA COMUM')][df['ESTADO'] == estados[0]]\n",
        "df_gas['PRECO MEDIO REVENDA'] = df_gas['PRECO MEDIO REVENDA'].astype(float)\n",
        "df_ip = kek_df.copy()\n",
        "\n",
        "#Junta os meses e anos para fica no formato jan/20.\n",
        "df_ip['MES'] = kek_df[\"MES\"].str.lower() + '/'+ kek_df['ANO'].astype(str).str[-2:]\n",
        "\n",
        "df_ip = df_ip.drop('ANO', axis=1)\n",
        "\n",
        "#Junta os datasets da gasolina e o do ipca \n",
        "df_all = pd.merge(df_ip, df_gas, on='MES')\n",
        "\n",
        "df_all['UM MES'] = df_all['UM MES'].str.replace(',','.').astype(float)\n",
        "\n",
        "df_all = df_all.drop(['NUMERO INDICE','TRES MESES','SEIS MESES', 'UM ANO', 'DOZE MESES'], axis=1)\n",
        "\n",
        "#Pega a variação percentual com o metodo pct_change() e faz * 100 para que os valores fiquem melhores para serem trabalhados.\n",
        "variacao = df_all['PRECO MEDIO REVENDA'].pct_change()*100\n",
        "\n",
        "#Cria uma coluna no dataframe para armazenar os valores das variações percentuais\n",
        "df_all['PRECO MEDIO REVENDA VAR'] = variacao\n",
        "\n",
        "icpa = df_all['UM MES']\n",
        "\n",
        "#É feito o calculo da media e do desvio usando os metodos .mean e .std, e os resultados são inserido em novas colunas \n",
        "operacao('PRECO MEDIO REVENDA VAR', df_all)\n",
        "operacao('UM MES', df_all)\n",
        "\n",
        "#Cria a uma Series chamada pearson que vai armazenar a multiplicação entre a coluna PRECO MEDIO REVENDA OP\n",
        "df_all['Pearson'] = df_all['PRECO MEDIO REVENDA VAR OP'] * df_all['UM MES OP']\n",
        "\n",
        "#Cria uma Series chamada Pearson que será armazena os valores da coluna Pearson\n",
        "pearson = df_all['Pearson']\n",
        "\n",
        "df_final = df_all.drop(['PRECO MEDIO REVENDA VAR','UM MES OP', 'PRECO MEDIO REVENDA VAR OP', 'ESTADO', 'PRODUTO', 'PRECO MEDIO REVENDA', 'UM MES'], axis=1)\n",
        "\n",
        "#Calcula a média dos indices de pearson gerados e coloca no df_final. Além de renomear as colunas utilizando o metodo\n",
        "#Rename, que recebe como padrão o nome atual da coluna, seguido de dois pontos, e o que será renomeado para.\n",
        "df_final = df_final.rename(columns={\"Pearson\": \"ESTADO: %s | INDICE PEARSON %.4f\" % (estados[0], pearson.mean())})\n",
        "\n",
        "#Como no Series Pearson está o indice de correlação mensal, precisamos calcular a média de todas as linhas da Series\n",
        "Sudeste = pearson.mean()\n",
        "\n",
        "#É realizado um for para iterar em todos os estados presentes na array \"estados\" a partir do primeiro item\n",
        "#Que é feito em cima.\n",
        "for estado in estados[1:]:\n",
        "  second_df = df[(df['PRODUTO'] == 'GASOLINA COMUM')][df['ESTADO'] == estado]\n",
        "  second_df['PRECO MEDIO REVENDA'] = second_df['PRECO MEDIO REVENDA'].astype(float)\n",
        "\n",
        "  ipca_df2 = kek_df.copy()\n",
        "  ipca_df2['MES'] = kek_df[\"MES\"].str.lower() + '/'+ kek_df['ANO'].astype(str).str[-2:]\n",
        "  df_usable = pd.merge(second_df,ipca_df2, on='MES')\n",
        "  df_usable['UM MES'] = df_usable['UM MES'].str.replace(',','.').astype(float)\n",
        "  df_usable = df_usable.drop(['NUMERO INDICE','TRES MESES','SEIS MESES', 'UM ANO', 'DOZE MESES', 'ANO'], axis=1)\n",
        "\n",
        "  variacao = df_usable['PRECO MEDIO REVENDA'].pct_change()*100\n",
        "  df_usable['PRECO MEDIO REVENDA VAR'] = variacao\n",
        "  icpa = df_usable['UM MES']\n",
        "\n",
        "  operacao('PRECO MEDIO REVENDA VAR', df_usable)\n",
        "  operacao('UM MES', df_usable)\n",
        "  df_usable['Pearson'] = df_usable['PRECO MEDIO REVENDA VAR OP'] * df_usable['UM MES OP']\n",
        "  pearson = df_usable['Pearson']\n",
        "  df_usable = df_usable.drop(['PRECO MEDIO REVENDA VAR','UM MES OP', 'PRECO MEDIO REVENDA VAR OP', 'ESTADO', 'PRODUTO', 'PRECO MEDIO REVENDA', 'UM MES'], axis=1)\n",
        "  \n",
        "  df_usable = df_usable.rename(columns={\"Pearson\": \"ESTADO: %s | INDICE PEARSON %.4f\" % (estado, pearson.mean())})\n",
        "  df_final = df_final.merge(df_usable, on='MES')\n",
        "\n",
        "  Sudeste = Sudeste + pearson.mean()\n",
        "\n",
        "ax = df_final.plot(title =\"Correlação Gasolina com IPCA\", x = 'MES', figsize=(20,10))\n",
        "ax.set_ylabel(\"IPCA\")\n",
        "#print(Sudeste/len(estados))"
      ],
      "metadata": {
        "id": "bRn6l_GgxJjO"
      },
      "execution_count": null,
      "outputs": []
    }
  ],
  "metadata": {
    "colab": {
      "provenance": [],
      "include_colab_link": true
    },
    "kernelspec": {
      "display_name": "Python 3",
      "name": "python3"
    },
    "language_info": {
      "name": "python"
    }
  },
  "nbformat": 4,
  "nbformat_minor": 0
}